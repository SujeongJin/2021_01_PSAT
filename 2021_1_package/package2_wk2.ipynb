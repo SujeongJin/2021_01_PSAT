{
  "nbformat": 4,
  "nbformat_minor": 0,
  "metadata": {
    "colab": {
      "name": "Week2",
      "provenance": [],
      "collapsed_sections": []
    },
    "kernelspec": {
      "name": "python3",
      "display_name": "Python 3"
    },
    "language_info": {
      "name": "python"
    }
  },
  "cells": [
    {
      "cell_type": "markdown",
      "metadata": {
        "id": "RyqKJdA2XiPI"
      },
      "source": [
        "주분 2주차 패키지 - 진수정"
      ]
    },
    {
      "cell_type": "code",
      "metadata": {
        "id": "fiQzXuCuXeWs"
      },
      "source": [
        "import pandas as pd\n",
        "import numpy as np"
      ],
      "execution_count": null,
      "outputs": []
    },
    {
      "cell_type": "markdown",
      "metadata": {
        "id": "bi5CSXeQXtIQ"
      },
      "source": [
        "# 1. 데이터 분할"
      ]
    },
    {
      "cell_type": "markdown",
      "metadata": {
        "id": "f1xR6iKoXvNw"
      },
      "source": [
        "- 1.1 데이터 불러오기"
      ]
    },
    {
      "cell_type": "code",
      "metadata": {
        "colab": {
          "base_uri": "https://localhost:8080/"
        },
        "id": "fYd0JLE4XqDj",
        "outputId": "e61b84b0-26f0-4285-ec3a-6ed4113c1d81"
      },
      "source": [
        "from google.colab import drive\n",
        "drive.mount('/content/drive')"
      ],
      "execution_count": null,
      "outputs": [
        {
          "output_type": "stream",
          "text": [
            "Drive already mounted at /content/drive; to attempt to forcibly remount, call drive.mount(\"/content/drive\", force_remount=True).\n"
          ],
          "name": "stdout"
        }
      ]
    },
    {
      "cell_type": "code",
      "metadata": {
        "id": "Nd6twElmXyLk"
      },
      "source": [
        "train = pd.read_csv(\"/content/drive/MyDrive/PSAT/train.csv\")\n",
        "test = pd.read_csv(\"/content/drive/MyDrive/PSAT/test.csv\")"
      ],
      "execution_count": null,
      "outputs": []
    },
    {
      "cell_type": "markdown",
      "metadata": {
        "id": "HBGKHoqLYB7g"
      },
      "source": [
        "- 1.2 단위 수정"
      ]
    },
    {
      "cell_type": "code",
      "metadata": {
        "id": "Z0R5Wb4CX-1H"
      },
      "source": [
        "X_train = train.drop('transaction_year',axis = 1)\n",
        "Y_train = train['transaction_year']"
      ],
      "execution_count": null,
      "outputs": []
    },
    {
      "cell_type": "markdown",
      "metadata": {
        "id": "gqXI2N1bZBZJ"
      },
      "source": [
        "- 1.3 validation set 분할 - 첫번째"
      ]
    },
    {
      "cell_type": "code",
      "metadata": {
        "id": "Z2hZpfL7Ylxf"
      },
      "source": [
        "from sklearn.model_selection import train_test_split\n",
        "\n",
        "X_tr,X_val,Y_tr,Y_val = train_test_split(X_train,Y_train,test_size = 0.2,random_state = 33)"
      ],
      "execution_count": null,
      "outputs": []
    },
    {
      "cell_type": "markdown",
      "metadata": {
        "id": "e-cwkpm_Zzip"
      },
      "source": [
        "- 1.4 질문"
      ]
    },
    {
      "cell_type": "markdown",
      "metadata": {
        "id": "IXTLh2y8Z1NA"
      },
      "source": [
        "> train / val에 시간 포인트가 랜덤으로 배정되기 때문에, 미래의 시점을 바탕으로 과거의 시점을 예측하는 문제가 발생할 수 있다.\n",
        "\n"
      ]
    },
    {
      "cell_type": "markdown",
      "metadata": {
        "id": "a395EOtWaJQX"
      },
      "source": [
        "- 1.5 validation set 분할 - 두번째"
      ]
    },
    {
      "cell_type": "code",
      "metadata": {
        "id": "TMQQAJQJZy4b"
      },
      "source": [
        "tr_idx = train['transaction_year'] != 4\n",
        "val_idx = train['transaction_year'] == 4"
      ],
      "execution_count": null,
      "outputs": []
    },
    {
      "cell_type": "code",
      "metadata": {
        "id": "kX4j8VcNaoGl"
      },
      "source": [
        "X_tr = X_train[tr_idx]\n",
        "X_val = X_train[val_idx]\n",
        "\n",
        "Y_tr = Y_train[tr_idx]\n",
        "Y_val = Y_train[val_idx]"
      ],
      "execution_count": null,
      "outputs": []
    },
    {
      "cell_type": "markdown",
      "metadata": {
        "id": "Ib3BVRCYfyZv"
      },
      "source": [
        "- 1.5 캣부스트 인코딩 전에"
      ]
    },
    {
      "cell_type": "code",
      "metadata": {
        "colab": {
          "base_uri": "https://localhost:8080/"
        },
        "id": "nETuSTNEa53B",
        "outputId": "3dc1bd41-f53e-4d3c-e25e-c2861c7215be"
      },
      "source": [
        "!pip install category_encoders"
      ],
      "execution_count": null,
      "outputs": [
        {
          "output_type": "stream",
          "text": [
            "Requirement already satisfied: category_encoders in /usr/local/lib/python3.7/dist-packages (2.2.2)\n",
            "Requirement already satisfied: scikit-learn>=0.20.0 in /usr/local/lib/python3.7/dist-packages (from category_encoders) (0.22.2.post1)\n",
            "Requirement already satisfied: statsmodels>=0.9.0 in /usr/local/lib/python3.7/dist-packages (from category_encoders) (0.10.2)\n",
            "Requirement already satisfied: pandas>=0.21.1 in /usr/local/lib/python3.7/dist-packages (from category_encoders) (1.1.5)\n",
            "Requirement already satisfied: numpy>=1.14.0 in /usr/local/lib/python3.7/dist-packages (from category_encoders) (1.19.5)\n",
            "Requirement already satisfied: scipy>=1.0.0 in /usr/local/lib/python3.7/dist-packages (from category_encoders) (1.4.1)\n",
            "Requirement already satisfied: patsy>=0.5.1 in /usr/local/lib/python3.7/dist-packages (from category_encoders) (0.5.1)\n",
            "Requirement already satisfied: joblib>=0.11 in /usr/local/lib/python3.7/dist-packages (from scikit-learn>=0.20.0->category_encoders) (1.0.1)\n",
            "Requirement already satisfied: pytz>=2017.2 in /usr/local/lib/python3.7/dist-packages (from pandas>=0.21.1->category_encoders) (2018.9)\n",
            "Requirement already satisfied: python-dateutil>=2.7.3 in /usr/local/lib/python3.7/dist-packages (from pandas>=0.21.1->category_encoders) (2.8.1)\n",
            "Requirement already satisfied: six in /usr/local/lib/python3.7/dist-packages (from patsy>=0.5.1->category_encoders) (1.15.0)\n"
          ],
          "name": "stdout"
        }
      ]
    },
    {
      "cell_type": "code",
      "metadata": {
        "colab": {
          "base_uri": "https://localhost:8080/"
        },
        "id": "LYxHLWYJcXkS",
        "outputId": "b066c702-578e-47c9-b869-0d137d907078"
      },
      "source": [
        "from category_encoders.cat_boost import CatBoostEncoder"
      ],
      "execution_count": null,
      "outputs": [
        {
          "output_type": "stream",
          "text": [
            "/usr/local/lib/python3.7/dist-packages/statsmodels/tools/_testing.py:19: FutureWarning: pandas.util.testing is deprecated. Use the functions in the public API at pandas.testing instead.\n",
            "  import pandas.util.testing as tm\n"
          ],
          "name": "stderr"
        }
      ]
    },
    {
      "cell_type": "markdown",
      "metadata": {
        "id": "t-KGx51tf7If"
      },
      "source": [
        "- 1.6 캣부스트 인코딩"
      ]
    },
    {
      "cell_type": "code",
      "metadata": {
        "id": "kEfzmQExf6Bv"
      },
      "source": [
        "cbe_encoder = CatBoostEncoder()\n",
        "\n",
        "cbe_encoder.fit(X_tr, Y_tr)\n",
        "train_cbe = cbe_encoder.transform(X_tr)\n",
        "val_cbe = cbe_encoder.transform(X_val)"
      ],
      "execution_count": null,
      "outputs": []
    },
    {
      "cell_type": "code",
      "metadata": {
        "colab": {
          "base_uri": "https://localhost:8080/",
          "height": 204
        },
        "id": "AYKxGCagg0bM",
        "outputId": "a86f2a2c-5baa-4e3f-bc8e-4d5489150d58"
      },
      "source": [
        "val_cbe.head()"
      ],
      "execution_count": null,
      "outputs": [
        {
          "output_type": "execute_result",
          "data": {
            "text/html": [
              "<div>\n",
              "<style scoped>\n",
              "    .dataframe tbody tr th:only-of-type {\n",
              "        vertical-align: middle;\n",
              "    }\n",
              "\n",
              "    .dataframe tbody tr th {\n",
              "        vertical-align: top;\n",
              "    }\n",
              "\n",
              "    .dataframe thead th {\n",
              "        text-align: right;\n",
              "    }\n",
              "</style>\n",
              "<table border=\"1\" class=\"dataframe\">\n",
              "  <thead>\n",
              "    <tr style=\"text-align: right;\">\n",
              "      <th></th>\n",
              "      <th>dong</th>\n",
              "      <th>apt</th>\n",
              "      <th>exclusive_use_area</th>\n",
              "      <th>floor</th>\n",
              "      <th>price</th>\n",
              "      <th>until_trans</th>\n",
              "      <th>sin_date</th>\n",
              "      <th>cos_date</th>\n",
              "    </tr>\n",
              "  </thead>\n",
              "  <tbody>\n",
              "    <tr>\n",
              "      <th>2451</th>\n",
              "      <td>1.799346</td>\n",
              "      <td>1.800803</td>\n",
              "      <td>107.91</td>\n",
              "      <td>14</td>\n",
              "      <td>83000</td>\n",
              "      <td>9</td>\n",
              "      <td>-1.000000e+00</td>\n",
              "      <td>-1.836970e-16</td>\n",
              "    </tr>\n",
              "    <tr>\n",
              "      <th>2452</th>\n",
              "      <td>1.799346</td>\n",
              "      <td>1.800803</td>\n",
              "      <td>151.81</td>\n",
              "      <td>10</td>\n",
              "      <td>119000</td>\n",
              "      <td>9</td>\n",
              "      <td>-1.000000e+00</td>\n",
              "      <td>-1.836970e-16</td>\n",
              "    </tr>\n",
              "    <tr>\n",
              "      <th>2453</th>\n",
              "      <td>1.799346</td>\n",
              "      <td>1.800803</td>\n",
              "      <td>94.51</td>\n",
              "      <td>2</td>\n",
              "      <td>84500</td>\n",
              "      <td>9</td>\n",
              "      <td>-2.449294e-16</td>\n",
              "      <td>1.000000e+00</td>\n",
              "    </tr>\n",
              "    <tr>\n",
              "      <th>2454</th>\n",
              "      <td>1.799346</td>\n",
              "      <td>1.800803</td>\n",
              "      <td>94.28</td>\n",
              "      <td>12</td>\n",
              "      <td>80000</td>\n",
              "      <td>9</td>\n",
              "      <td>-2.449294e-16</td>\n",
              "      <td>1.000000e+00</td>\n",
              "    </tr>\n",
              "    <tr>\n",
              "      <th>2455</th>\n",
              "      <td>2.056381</td>\n",
              "      <td>1.995690</td>\n",
              "      <td>145.96</td>\n",
              "      <td>13</td>\n",
              "      <td>121000</td>\n",
              "      <td>13</td>\n",
              "      <td>-1.000000e+00</td>\n",
              "      <td>-1.836970e-16</td>\n",
              "    </tr>\n",
              "  </tbody>\n",
              "</table>\n",
              "</div>"
            ],
            "text/plain": [
              "          dong       apt  ...      sin_date      cos_date\n",
              "2451  1.799346  1.800803  ... -1.000000e+00 -1.836970e-16\n",
              "2452  1.799346  1.800803  ... -1.000000e+00 -1.836970e-16\n",
              "2453  1.799346  1.800803  ... -2.449294e-16  1.000000e+00\n",
              "2454  1.799346  1.800803  ... -2.449294e-16  1.000000e+00\n",
              "2455  2.056381  1.995690  ... -1.000000e+00 -1.836970e-16\n",
              "\n",
              "[5 rows x 8 columns]"
            ]
          },
          "metadata": {
            "tags": []
          },
          "execution_count": 11
        }
      ]
    },
    {
      "cell_type": "markdown",
      "metadata": {
        "id": "BkmXciXR8rmN"
      },
      "source": [
        "????????????????????"
      ]
    },
    {
      "cell_type": "markdown",
      "metadata": {
        "id": "EkqL_6Oog9Of"
      },
      "source": [
        "# 2. 릿지 회귀"
      ]
    },
    {
      "cell_type": "markdown",
      "metadata": {
        "id": "Xu2sUoF_hA6d"
      },
      "source": [
        "- 2.1 상관계수 플랏"
      ]
    },
    {
      "cell_type": "code",
      "metadata": {
        "id": "vs-SuMe9g1Zs"
      },
      "source": [
        "import matplotlib.pyplot as plt\n",
        "import seaborn as sns"
      ],
      "execution_count": null,
      "outputs": []
    },
    {
      "cell_type": "code",
      "metadata": {
        "colab": {
          "base_uri": "https://localhost:8080/",
          "height": 723
        },
        "id": "hnpFuGbQhFjO",
        "outputId": "62e9847a-ebb0-4620-bd26-cc19372201b9"
      },
      "source": [
        "plt.figure(figsize=(12,12))\n",
        "sns.heatmap(data = X_tr.corr(),annot=True,fmt = '.2f',linewidths=.5,cmap='Blues')"
      ],
      "execution_count": null,
      "outputs": [
        {
          "output_type": "execute_result",
          "data": {
            "text/plain": [
              "<matplotlib.axes._subplots.AxesSubplot at 0x7f80faf42d10>"
            ]
          },
          "metadata": {
            "tags": []
          },
          "execution_count": 13
        },
        {
          "output_type": "display_data",
          "data": {
            "image/png": "[encoded data removed]",
            "text/plain": [
              "<Figure size 864x864 with 2 Axes>"
            ]
          },
          "metadata": {
            "tags": [],
            "needs_background": "light"
          }
        }
      ]
    },
    {
      "cell_type": "markdown",
      "metadata": {
        "id": "tmk0wdrPhr7n"
      },
      "source": [
        "> 변수들이 highly correlated 되어 있을 때 릿지 회귀가 효과적이지만, 해당 데이터셋은 그렇지 않기 때문에 릿지 회귀가 잘 작동하지는 않을 것이다."
      ]
    },
    {
      "cell_type": "markdown",
      "metadata": {
        "id": "ztL5zysPh8W_"
      },
      "source": [
        "- 2.2 해석과 무관하게 일단 릿지 튜닝"
      ]
    },
    {
      "cell_type": "code",
      "metadata": {
        "id": "VMKKN9lnhkZP"
      },
      "source": [
        "from sklearn.linear_model import Ridge\n",
        "from sklearn.metrics import mean_squared_error\n",
        "from math import sqrt"
      ],
      "execution_count": null,
      "outputs": []
    },
    {
      "cell_type": "code",
      "metadata": {
        "id": "RcdkQ3xHiDtF"
      },
      "source": [
        "alphas = [0.00001, 0.0001, 0.001, 0.01, 0.1]\n",
        "rmses = []\n",
        "coefs = []\n",
        "\n",
        "for alpha in alphas:\n",
        "  ridge_reg = Ridge(alpha = alpha,normalize = True)\n",
        "  ridge_reg.fit(train_cbe,Y_tr)\n",
        "\n",
        "  Y_pred = ridge_reg.predict(val_cbe)\n",
        "  mse = mean_squared_error(Y_val,Y_pred)\n",
        "  rmse = sqrt(mse)\n",
        "  rmses.append(rmse)\n",
        "\n",
        "  # For visualization\n",
        "  coefs.append(ridge_reg.coef_)\n"
      ],
      "execution_count": null,
      "outputs": []
    },
    {
      "cell_type": "markdown",
      "metadata": {
        "id": "JtPBgVVrHe-w"
      },
      "source": [
        "- 2.3 튜닝결과 시각화 / 2.4 해석"
      ]
    },
    {
      "cell_type": "code",
      "metadata": {
        "colab": {
          "base_uri": "https://localhost:8080/",
          "height": 299
        },
        "id": "XYSj5tl8KnqX",
        "outputId": "14cf6ea5-298b-4bf5-e91f-c8ff7d55489b"
      },
      "source": [
        "ax = plt.gca()\n",
        "\n",
        "ax.plot(alphas, coefs)\n",
        "ax.set_xscale('log')\n",
        "ax.set_xlim(ax.get_xlim()[::-1])  # reverse axis\n",
        "plt.xlabel('alpha')\n",
        "plt.ylabel('weights')\n",
        "plt.title('Ridge coefficients as a function of the regularization')\n",
        "plt.axis('tight')\n",
        "plt.show()"
      ],
      "execution_count": null,
      "outputs": [
        {
          "output_type": "display_data",
          "data": {
            "image/png": "[encoded data removed]",
            "text/plain": [
              "<Figure size 432x288 with 1 Axes>"
            ]
          },
          "metadata": {
            "tags": [],
            "needs_background": "light"
          }
        }
      ]
    },
    {
      "cell_type": "markdown",
      "metadata": {
        "id": "34mW96RSzwlv"
      },
      "source": [
        "> alpha가 클수록 계수 추정치가 축소되지만, 0으로 가지는 않는 것을 확인할 수 있다."
      ]
    },
    {
      "cell_type": "code",
      "metadata": {
        "colab": {
          "base_uri": "https://localhost:8080/",
          "height": 299
        },
        "id": "H4bCQ7ouKWqy",
        "outputId": "cfa97c7d-e8e7-4464-b505-659a46e127a0"
      },
      "source": [
        "ax = plt.gca()\n",
        "\n",
        "ax.plot(alphas, rmses)\n",
        "ax.set_xscale('log')\n",
        "ax.set_xlim(ax.get_xlim()[::-1])  # reverse axis\n",
        "plt.xlabel('alpha')\n",
        "plt.ylabel('rmses')\n",
        "plt.title('RMSE')\n",
        "plt.axis('tight')\n",
        "plt.show()"
      ],
      "execution_count": null,
      "outputs": [
        {
          "output_type": "display_data",
          "data": {
            "image/png": "[encoded data removed]",
            "text/plain": [
              "<Figure size 432x288 with 1 Axes>"
            ]
          },
          "metadata": {
            "tags": [],
            "needs_background": "light"
          }
        }
      ]
    },
    {
      "cell_type": "code",
      "metadata": {
        "colab": {
          "base_uri": "https://localhost:8080/"
        },
        "id": "NMiYvGRX1UPu",
        "outputId": "e5c897c8-c3cb-4b8a-85db-ec0bf683ab83"
      },
      "source": [
        "rmses"
      ],
      "execution_count": null,
      "outputs": [
        {
          "output_type": "execute_result",
          "data": {
            "text/plain": [
              "[2.02622306592163,\n",
              " 2.026229483267233,\n",
              " 2.026293553646941,\n",
              " 2.0269241915222103,\n",
              " 2.032412785172994]"
            ]
          },
          "metadata": {
            "tags": []
          },
          "execution_count": 18
        }
      ]
    },
    {
      "cell_type": "markdown",
      "metadata": {
        "id": "0p75SPzM0cev"
      },
      "source": [
        "> alpha = 10^(-5) 일 때 rmse 값이 2.02622306592163 로 가장 작았다.  \n",
        "> \n",
        "-> alpha set 중 최적의 alpha 값은 10^(-5)"
      ]
    },
    {
      "cell_type": "markdown",
      "metadata": {
        "id": "6L8NbuxQIgAH"
      },
      "source": [
        "- 2.5 그냥 선형 모형으로"
      ]
    },
    {
      "cell_type": "code",
      "metadata": {
        "id": "Z9lU1WVvImlY"
      },
      "source": [
        "from sklearn.linear_model import LinearRegression"
      ],
      "execution_count": null,
      "outputs": []
    },
    {
      "cell_type": "code",
      "metadata": {
        "colab": {
          "base_uri": "https://localhost:8080/"
        },
        "id": "2MhswqaNGK7E",
        "outputId": "8adb3559-53bc-4d8a-818b-e68fabd3ef03"
      },
      "source": [
        "lin_reg = LinearRegression().fit(train_cbe,Y_tr)\n",
        "Y_pred = lin_reg.predict(val_cbe)\n",
        "mse = mean_squared_error(Y_val,Y_pred)\n",
        "rmse = sqrt(mse)\n",
        "\n",
        "print('RMSE of linear regression model: %.6f'%(rmse))"
      ],
      "execution_count": null,
      "outputs": [
        {
          "output_type": "stream",
          "text": [
            "RMSE of linear regression model: 2.026222\n"
          ],
          "name": "stdout"
        }
      ]
    },
    {
      "cell_type": "markdown",
      "metadata": {
        "id": "P6QIijg01Xin"
      },
      "source": [
        "> 선형 모형의 rmse가 릿지 회귀의 rmse 값보다 미세하게 더 작다.  \n",
        "> \n",
        "-> 그냥 선형 모형을 쓰자!"
      ]
    },
    {
      "cell_type": "markdown",
      "metadata": {
        "id": "dG9IVHuvJXkn"
      },
      "source": [
        "# LGBM"
      ]
    },
    {
      "cell_type": "code",
      "metadata": {
        "colab": {
          "base_uri": "https://localhost:8080/"
        },
        "id": "95maVImgJVBB",
        "outputId": "eed7e270-b273-44ae-8e6d-4f558e910c30"
      },
      "source": [
        "!pip install lightgbm"
      ],
      "execution_count": null,
      "outputs": [
        {
          "output_type": "stream",
          "text": [
            "Requirement already satisfied: lightgbm in /usr/local/lib/python3.7/dist-packages (2.2.3)\n",
            "Requirement already satisfied: scikit-learn in /usr/local/lib/python3.7/dist-packages (from lightgbm) (0.22.2.post1)\n",
            "Requirement already satisfied: scipy in /usr/local/lib/python3.7/dist-packages (from lightgbm) (1.4.1)\n",
            "Requirement already satisfied: numpy in /usr/local/lib/python3.7/dist-packages (from lightgbm) (1.19.5)\n",
            "Requirement already satisfied: joblib>=0.11 in /usr/local/lib/python3.7/dist-packages (from scikit-learn->lightgbm) (1.0.1)\n"
          ],
          "name": "stdout"
        }
      ]
    },
    {
      "cell_type": "markdown",
      "metadata": {
        "id": "ZVY0lnrFJu1I"
      },
      "source": [
        "- 3.1 LightGBM 이해"
      ]
    },
    {
      "cell_type": "markdown",
      "metadata": {
        "id": "5PzoGqLK19fI"
      },
      "source": [
        "LGBM의 \n",
        "> 특징: 리프 중심 분할 방식을 사용함으로써,   \n",
        "1) 트리의 깊이가 깊어짐 & 비대칭적 트리 생성  \n",
        "2) 예측오류를 최소화하며 속도 향상  \n",
        "> \n",
        "> 장점: 속도가 느린 Xgboost의 단점을 개선한 부스팅 방법으로,  \n",
        "1) 학습하는 데 걸리는 시간이 적으며  \n",
        "2) 메모리 사용량도 비교적 적은 편이다.\n",
        "> \n",
        "> 문제점: 적은 데이터셋 (일반적으로 10,000건 이하) 에 적용할 경우 과적합 가능성이 크다."
      ]
    },
    {
      "cell_type": "markdown",
      "metadata": {
        "id": "hZ-Rwq77MQ14"
      },
      "source": [
        "- 3.2 테스트"
      ]
    },
    {
      "cell_type": "code",
      "metadata": {
        "id": "vq1enq9HJtz4"
      },
      "source": [
        "import lightgbm as lgb\n",
        "from lightgbm import LGBMModel,LGBMRegressor\n",
        "# import itertools"
      ],
      "execution_count": null,
      "outputs": []
    },
    {
      "cell_type": "code",
      "metadata": {
        "id": "IxuLtwUj5gGU"
      },
      "source": [
        "from sklearn.model_selection import GridSearchCV\n",
        "from sklearn.pipeline import Pipeline\n",
        "\n",
        "pipeline = Pipeline([\n",
        "                     ('lgbmr',LGBMRegressor())\n",
        "])"
      ],
      "execution_count": null,
      "outputs": []
    },
    {
      "cell_type": "code",
      "metadata": {
        "id": "BwFSiQhA3-l1"
      },
      "source": [
        "parameters_pipeline = {\n",
        "    'lgbmr__learning_rate':[0.01, 0.05, 0.1, 0.3, 0.5, 0.7, 0.99]\n",
        "}"
      ],
      "execution_count": null,
      "outputs": []
    },
    {
      "cell_type": "code",
      "metadata": {
        "colab": {
          "base_uri": "https://localhost:8080/"
        },
        "id": "6c7nH4W55Az2",
        "outputId": "767298be-9d38-4c81-f540-c224ead392b4"
      },
      "source": [
        "grid_search = GridSearchCV(pipeline,parameters_pipeline,n_jobs = -1,cv = 3)\n",
        "grid_search.fit(train_cbe,Y_tr)"
      ],
      "execution_count": null,
      "outputs": [
        {
          "output_type": "execute_result",
          "data": {
            "text/plain": [
              "GridSearchCV(cv=3, error_score=nan,\n",
              "             estimator=Pipeline(memory=None,\n",
              "                                steps=[('lgbmr',\n",
              "                                        LGBMRegressor(boosting_type='gbdt',\n",
              "                                                      class_weight=None,\n",
              "                                                      colsample_bytree=1.0,\n",
              "                                                      importance_type='split',\n",
              "                                                      learning_rate=0.1,\n",
              "                                                      max_depth=-1,\n",
              "                                                      min_child_samples=20,\n",
              "                                                      min_child_weight=0.001,\n",
              "                                                      min_split_gain=0.0,\n",
              "                                                      n_estimators=100,\n",
              "                                                      n_jobs=-1, num_leaves=31,\n",
              "                                                      objective=None,\n",
              "                                                      random_state=None,\n",
              "                                                      reg_alpha=0.0,\n",
              "                                                      reg_lambda=0.0,\n",
              "                                                      silent=True,\n",
              "                                                      subsample=1.0,\n",
              "                                                      subsample_for_bin=200000,\n",
              "                                                      subsample_freq=0))],\n",
              "                                verbose=False),\n",
              "             iid='deprecated', n_jobs=-1,\n",
              "             param_grid={'lgbmr__learning_rate': [0.01, 0.05, 0.1, 0.3, 0.5,\n",
              "                                                  0.7, 0.99]},\n",
              "             pre_dispatch='2*n_jobs', refit=True, return_train_score=False,\n",
              "             scoring=None, verbose=0)"
            ]
          },
          "metadata": {
            "tags": []
          },
          "execution_count": 25
        }
      ]
    },
    {
      "cell_type": "code",
      "metadata": {
        "colab": {
          "base_uri": "https://localhost:8080/"
        },
        "id": "9hWPY9Xj66I-",
        "outputId": "7daeb28f-2a46-4e2c-e7b4-e80fdbcc6e47"
      },
      "source": [
        "grid_search.best_params_"
      ],
      "execution_count": null,
      "outputs": [
        {
          "output_type": "execute_result",
          "data": {
            "text/plain": [
              "{'lgbmr__learning_rate': 0.01}"
            ]
          },
          "metadata": {
            "tags": []
          },
          "execution_count": 26
        }
      ]
    },
    {
      "cell_type": "markdown",
      "metadata": {
        "id": "wupZacEt8_sj"
      },
      "source": [
        "- 3.2 LGBM 튜닝"
      ]
    },
    {
      "cell_type": "code",
      "metadata": {
        "id": "wyFctOYm9Cv7"
      },
      "source": [
        "params = [0.01, 0.05, 0.1, 0.3, 0.5, 0.7, 0.99]\n",
        "rmses = []\n",
        "\n",
        "for param in params:\n",
        "  lgbmr = LGBMRegressor(learning_rate = param)\n",
        "  lgbmr.fit(train_cbe,Y_tr)\n",
        "\n",
        "  Y_pred = lgbmr.predict(val_cbe)\n",
        "  mse = mean_squared_error(Y_val,Y_pred)\n",
        "  rmse = sqrt(mse)\n",
        "  rmses.append(rmse)"
      ],
      "execution_count": null,
      "outputs": []
    },
    {
      "cell_type": "markdown",
      "metadata": {
        "id": "IX0L5swR3_tG"
      },
      "source": [
        "- 3.3 튜닝결과 시각화"
      ]
    },
    {
      "cell_type": "code",
      "metadata": {
        "colab": {
          "base_uri": "https://localhost:8080/",
          "height": 300
        },
        "id": "7up0TUNp4BA-",
        "outputId": "a938ed08-2979-40e5-b5d4-1614139711b1"
      },
      "source": [
        "ax = plt.gca()\n",
        "\n",
        "ax.plot(params, rmses)\n",
        "ax.set_xscale('log')\n",
        "ax.set_xlim(ax.get_xlim()[::-1])  # reverse axis\n",
        "plt.xlabel('learning_rate')\n",
        "plt.ylabel('rmses')\n",
        "plt.title('RMSE')\n",
        "plt.axis('tight')\n",
        "plt.show()"
      ],
      "execution_count": null,
      "outputs": [
        {
          "output_type": "display_data",
          "data": {
            "image/png": "[encoded data removed]",
            "text/plain": [
              "<Figure size 432x288 with 1 Axes>"
            ]
          },
          "metadata": {
            "tags": [],
            "needs_background": "light"
          }
        }
      ]
    },
    {
      "cell_type": "code",
      "metadata": {
        "colab": {
          "base_uri": "https://localhost:8080/"
        },
        "id": "FAXYrTiGCSHC",
        "outputId": "abce1d46-0c65-4c64-9a38-8417205d7af6"
      },
      "source": [
        "rmses"
      ],
      "execution_count": null,
      "outputs": [
        {
          "output_type": "execute_result",
          "data": {
            "text/plain": [
              "[1.9902162893901876,\n",
              " 1.8785974113961326,\n",
              " 1.8289485250429909,\n",
              " 1.7392921936444776,\n",
              " 1.6789464334976596,\n",
              " 1.6245011362735131,\n",
              " 1.6264328304122915]"
            ]
          },
          "metadata": {
            "tags": []
          },
          "execution_count": 29
        }
      ]
    },
    {
      "cell_type": "markdown",
      "metadata": {
        "id": "KaG7g3-PChZJ"
      },
      "source": [
        "learning_rate : 0.7"
      ]
    },
    {
      "cell_type": "markdown",
      "metadata": {
        "id": "S9oZ9X6p4BoW"
      },
      "source": [
        "- 3.4 튜닝에 대하여 알아보자"
      ]
    },
    {
      "cell_type": "markdown",
      "metadata": {
        "id": "K8OtnZJ8-lAL"
      },
      "source": [
        "> Grid Search:  \n",
        "> 탐색의 대상이 되는 파라미터 후보 각각에 대해서 성능을 측정한 후, 가장 높은 성능을 발휘한 파라미터 값을 선정하는 방법  \n",
        "> \n",
        "> 장점: 전역적인 탐색이 가능\n",
        "> \n",
        "> 단점: 탐색 시간이 오래 걸릴 수 있다 & 주관적인 간격 설정\n",
        "  \n",
        "> Random Search:  \n",
        "> 샘플링을 통해 탐색 구간 내의 파라미터 후보를 선정한 후 성능 측정\n",
        "> \n",
        "> 장점: Grid로 제한되지 않음\n",
        "> \n",
        "> 단점: 다음번 파라미터 후보를 선정할 때, 이전까지의 측정 결과에 대한 사전지식이 반영되지 않기 때문에 비효율적인 느낌\n",
        "  \n",
        "> Bayesian Optimization\n",
        "> surrogate model을 통해 현재까지 조사된 데이터를 바탕으로 목적함수를 추정한 후, acquisition function을 통해 다음 입력값을 추천받아 그 관측치를 포함해 다시 목적함수를 추정하는 방법\n",
        "> \n",
        "> 장점: 이전의 탐색결과를 다음 탐색에 반영하면서 최적의 파라미터를 빠르게 탐색한다.\n",
        "> \n",
        "> 단점: 성능이 목적함수의 확률 모델의 파라미터의 값에 민감하다."
      ]
    },
    {
      "cell_type": "markdown",
      "metadata": {
        "id": "f8niPzO24EuF"
      },
      "source": [
        "# 4. test set"
      ]
    },
    {
      "cell_type": "markdown",
      "metadata": {
        "id": "x9y_OPXXBK7M"
      },
      "source": [
        "- 4.1 test set 불러오기"
      ]
    },
    {
      "cell_type": "markdown",
      "metadata": {
        "id": "2LxR-a0MBTTz"
      },
      "source": [
        "> 앞에서 불러왔습니다!"
      ]
    },
    {
      "cell_type": "code",
      "metadata": {
        "id": "Ems0K8-14GGK"
      },
      "source": [
        "X_test = test.drop('transaction_year',axis = 1)\n",
        "Y_test = test['transaction_year']"
      ],
      "execution_count": null,
      "outputs": []
    },
    {
      "cell_type": "markdown",
      "metadata": {
        "id": "K90378lDBWZb"
      },
      "source": [
        "- 4.2 캣부스트 인코딩"
      ]
    },
    {
      "cell_type": "code",
      "metadata": {
        "id": "IbRrz6HJBSQs"
      },
      "source": [
        "cbe_encoder = CatBoostEncoder()\n",
        "\n",
        "cbe_encoder.fit(X_train, Y_train)\n",
        "train_cbe = cbe_encoder.transform(X_train)\n",
        "test_cbe = cbe_encoder.transform(X_test)"
      ],
      "execution_count": null,
      "outputs": []
    },
    {
      "cell_type": "markdown",
      "metadata": {
        "id": "XTRWXFi4C5xj"
      },
      "source": [
        "- 4.3 최적의 파라미터 적합"
      ]
    },
    {
      "cell_type": "code",
      "metadata": {
        "colab": {
          "base_uri": "https://localhost:8080/"
        },
        "id": "OrtKdtzPB3xa",
        "outputId": "ee5023ca-17de-439f-8666-3b567101d0bd"
      },
      "source": [
        "# Ridge: 0.00001\n",
        "ridge_reg = Ridge(alpha = 0.00001,normalize = True)\n",
        "ridge_reg.fit(train_cbe,Y_train)\n",
        "\n",
        "Y_pred = ridge_reg.predict(test_cbe)\n",
        "mse = mean_squared_error(Y_test,Y_pred)\n",
        "rmse = sqrt(mse)\n",
        "\n",
        "\n",
        "print('RMSE of ridge regression model: %.6f'%(rmse))"
      ],
      "execution_count": null,
      "outputs": [
        {
          "output_type": "stream",
          "text": [
            "RMSE of ridge regression model: 2.391386\n"
          ],
          "name": "stdout"
        }
      ]
    },
    {
      "cell_type": "code",
      "metadata": {
        "colab": {
          "base_uri": "https://localhost:8080/"
        },
        "id": "G2Yy6iYKBic_",
        "outputId": "ed02fa86-23d9-4085-b462-d543245cceba"
      },
      "source": [
        "# Linear regression\n",
        "lin_reg = LinearRegression().fit(train_cbe,Y_train)\n",
        "Y_pred = lin_reg.predict(test_cbe)\n",
        "mse = mean_squared_error(Y_test,Y_pred)\n",
        "rmse = sqrt(mse)\n",
        "\n",
        "print('RMSE of linear regression model: %.6f'%(rmse))"
      ],
      "execution_count": null,
      "outputs": [
        {
          "output_type": "stream",
          "text": [
            "RMSE of linear regression model: 2.391384\n"
          ],
          "name": "stdout"
        }
      ]
    },
    {
      "cell_type": "code",
      "metadata": {
        "colab": {
          "base_uri": "https://localhost:8080/"
        },
        "id": "u1jbiSS3CLKk",
        "outputId": "8a6e6713-de44-49b1-f022-6e03e63e2dde"
      },
      "source": [
        "# LGBM: learning_rate 0.7\n",
        "lgbmr = LGBMRegressor(learning_rate = 0.7)\n",
        "lgbmr.fit(train_cbe,Y_train)\n",
        "\n",
        "Y_pred = lgbmr.predict(test_cbe)\n",
        "mse = mean_squared_error(Y_test,Y_pred)\n",
        "rmse = sqrt(mse)\n",
        "\n",
        "print('RMSE of LGBM model: %.6f'%(rmse))"
      ],
      "execution_count": null,
      "outputs": [
        {
          "output_type": "stream",
          "text": [
            "RMSE of LGBM model: 1.667552\n"
          ],
          "name": "stdout"
        }
      ]
    },
    {
      "cell_type": "markdown",
      "metadata": {
        "id": "8CHLBE4iC78I"
      },
      "source": [
        "- 4.4 test set에 대해 평가"
      ]
    },
    {
      "cell_type": "markdown",
      "metadata": {
        "id": "vOyBmOIvC_1x"
      },
      "source": [
        "> LGBM의 test RMSE가 가장 작으므로, 세 가지 모델 중 최적의 모델이다."
      ]
    },
    {
      "cell_type": "code",
      "metadata": {
        "id": "q96XvXR9C1ld"
      },
      "source": [
        ""
      ],
      "execution_count": null,
      "outputs": []
    }
  ]
}